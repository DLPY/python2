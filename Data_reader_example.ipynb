{
  "cells": [
    {
      "cell_type": "markdown",
      "metadata": {
        "id": "view-in-github",
        "colab_type": "text"
      },
      "source": [
        "<a href=\"https://colab.research.google.com/github/DLPY/python2/blob/main/Data_reader_example.ipynb\" target=\"_parent\"><img src=\"https://colab.research.google.com/assets/colab-badge.svg\" alt=\"Open In Colab\"/></a>"
      ]
    },
    {
      "cell_type": "markdown",
      "id": "dcd9f114",
      "metadata": {
        "id": "dcd9f114"
      },
      "source": [
        "Let's find out which version of Python we are working wth:"
      ]
    },
    {
      "cell_type": "code",
      "execution_count": 1,
      "id": "a59ca7ec",
      "metadata": {
        "id": "a59ca7ec",
        "outputId": "abd572ab-4694-4940-84b6-b760b7cac5a1",
        "colab": {
          "base_uri": "https://localhost:8080/"
        }
      },
      "outputs": [
        {
          "output_type": "stream",
          "name": "stdout",
          "text": [
            "Python 3.7.15\n"
          ]
        }
      ],
      "source": [
        "!python --version"
      ]
    },
    {
      "cell_type": "markdown",
      "id": "e0c32541",
      "metadata": {
        "id": "e0c32541"
      },
      "source": [
        "With the following line, we can know which libraries we have already installed:"
      ]
    },
    {
      "cell_type": "code",
      "execution_count": null,
      "id": "82e7e727",
      "metadata": {
        "scrolled": true,
        "id": "82e7e727",
        "outputId": "377ea6b6-0b71-4f85-e3f9-4d6fe8fc15e7",
        "colab": {
          "base_uri": "https://localhost:8080/"
        }
      },
      "outputs": [
        {
          "output_type": "stream",
          "name": "stdout",
          "text": [
            "\n",
            "Please wait a moment while I gather a list of all available modules...\n",
            "\n"
          ]
        },
        {
          "output_type": "stream",
          "name": "stderr",
          "text": [
            "/usr/local/lib/python3.7/dist-packages/IPython/kernel/__init__.py:13: ShimWarning: The `IPython.kernel` package has been deprecated since IPython 4.0.You should import from ipykernel or jupyter_client instead.\n",
            "  \"You should import from ipykernel or jupyter_client instead.\", ShimWarning)\n",
            "/usr/local/lib/python3.7/dist-packages/llvmlite/llvmpy/__init__.py:4: UserWarning: The module `llvmlite.llvmpy` is deprecated and will be removed in the future.\n",
            "  \"The module `llvmlite.llvmpy` is deprecated and will be removed in the \"\n",
            "/usr/local/lib/python3.7/dist-packages/llvmlite/llvmpy/core.py:9: UserWarning: The module `llvmlite.llvmpy.core` is deprecated and will be removed in the future. Equivalent functionality is provided by `llvmlite.ir`.\n",
            "  \"The module `llvmlite.llvmpy.core` is deprecated and will be removed in \"\n",
            "WARNING: AstropyDeprecationWarning: The private astropy._erfa module has been made into its own package, pyerfa, which is a dependency of astropy and can be imported directly using \"import erfa\" [astropy._erfa]\n",
            "WARNING:astropy:AstropyDeprecationWarning: The private astropy._erfa module has been made into its own package, pyerfa, which is a dependency of astropy and can be imported directly using \"import erfa\"\n",
            "/usr/local/lib/python3.7/dist-packages/caffe2/__init__.py:5: UserWarning: Caffe2 support is not fully enabled in this PyTorch build. Please enable Caffe2 by building PyTorch from source with `BUILD_CAFFE2=1` flag.\n",
            "  warnings.warn(\"Caffe2 support is not fully enabled in this PyTorch build. \"\n",
            "/usr/local/lib/python3.7/dist-packages/caffe2/proto/__init__.py:17: UserWarning: Caffe2 support is not enabled in this PyTorch build. Please enable Caffe2 by building PyTorch from source with `BUILD_CAFFE2=1` flag.\n",
            "  warnings.warn('Caffe2 support is not enabled in this PyTorch build. '\n",
            "/usr/local/lib/python3.7/dist-packages/caffe2/proto/__init__.py:17: UserWarning: Caffe2 support is not enabled in this PyTorch build. Please enable Caffe2 by building PyTorch from source with `BUILD_CAFFE2=1` flag.\n",
            "  warnings.warn('Caffe2 support is not enabled in this PyTorch build. '\n",
            "/usr/local/lib/python3.7/dist-packages/caffe2/python/__init__.py:9: UserWarning: Caffe2 support is not enabled in this PyTorch build. Please enable Caffe2 by building PyTorch from source with `BUILD_CAFFE2=1` flag.\n",
            "  warnings.warn('Caffe2 support is not enabled in this PyTorch build. '\n",
            "/usr/local/lib/python3.7/dist-packages/past/types/oldstr.py:5: DeprecationWarning:\n",
            "\n",
            "Using or importing the ABCs from 'collections' instead of from 'collections.abc' is deprecated since Python 3.3,and in 3.9 it will stop working\n",
            "\n",
            "/usr/local/lib/python3.7/dist-packages/intervaltree/intervaltree.py:37: DeprecationWarning:\n",
            "\n",
            "Using or importing the ABCs from 'collections' instead of from 'collections.abc' is deprecated since Python 3.3,and in 3.9 it will stop working\n",
            "\n",
            "/usr/local/lib/python3.7/dist-packages/jupyter_client/ssh/tunnel.py:57: DeprecationWarning:\n",
            "\n",
            "zmq.utils.strtypes is deprecated in pyzmq 23.\n",
            "\n",
            "/usr/local/lib/python3.7/dist-packages/librosa/core/constantq.py:1059: DeprecationWarning:\n",
            "\n",
            "`np.complex` is a deprecated alias for the builtin `complex`. To silence this warning, use `complex` by itself. Doing this will not modify any behavior and is safe. If you specifically wanted the numpy scalar type, use `np.complex128` here.\n",
            "Deprecated in NumPy 1.20; for more details and guidance: https://numpy.org/devdocs/release/1.20.0-notes.html#deprecations\n",
            "\n"
          ]
        },
        {
          "output_type": "stream",
          "name": "stdout",
          "text": [
            "Downloading http://dlib.net/files/shape_predictor_68_face_landmarks.dat.bz2 to /root/mlxtend_data/shape_predictor_68_face_landmarks.dat.bz2\n"
          ]
        },
        {
          "output_type": "stream",
          "name": "stderr",
          "text": [
            "/usr/local/lib/python3.7/dist-packages/nbconvert/filters/strings.py:22: DeprecationWarning:\n",
            "\n",
            "defusedxml.cElementTree is deprecated, import from defusedxml.ElementTree instead.\n",
            "\n",
            "/usr/local/lib/python3.7/dist-packages/nibabel/quaternions.py:31: DeprecationWarning:\n",
            "\n",
            "`np.float` is a deprecated alias for the builtin `float`. To silence this warning, use `float` by itself. Doing this will not modify any behavior and is safe. If you specifically wanted the numpy scalar type, use `np.float64` here.\n",
            "Deprecated in NumPy 1.20; for more details and guidance: https://numpy.org/devdocs/release/1.20.0-notes.html#deprecations\n",
            "\n",
            "/usr/lib/python3.7/pkgutil.py:92: UserWarning:\n",
            "\n",
            "The DICOM readers are highly experimental, unstable, and only work for Siemens time-series at the moment\n",
            "Please use with caution.  We would be grateful for your help in improving them\n",
            "\n",
            "/usr/local/lib/python3.7/dist-packages/nltk/twitter/__init__.py:21: UserWarning:\n",
            "\n",
            "The twython library has not been installed. Some functionality from the twitter package will not be available.\n",
            "\n",
            "/usr/local/lib/python3.7/dist-packages/pip/_vendor/packaging/version.py:130: DeprecationWarning:\n",
            "\n",
            "Creating a LegacyVersion has been deprecated and will be removed in the next major release\n",
            "\n",
            "/usr/local/lib/python3.7/dist-packages/pip/_vendor/packaging/version.py:130: DeprecationWarning:\n",
            "\n",
            "Creating a LegacyVersion has been deprecated and will be removed in the next major release\n",
            "\n",
            "/usr/lib/python3.7/pkgutil.py:92: UserWarning: Viewer requires Qt\n",
            "/usr/local/lib/python3.7/dist-packages/sphinx/websupport/__init__.py:25: RemovedInSphinx20Warning: sphinx.websupport module is now provided as sphinxcontrib-websupport. sphinx.websupport will be removed at Sphinx-2.0. Please use the package instead.\n",
            "/usr/local/lib/python3.7/dist-packages/marshmallow/fields.py:573: RemovedInMarshmallow4Warning: The 'missing' argument to fields is deprecated. Use 'load_default' instead.\n",
            "/usr/local/lib/python3.7/dist-packages/tensorboard/_vendor/html5lib/filters/sanitizer.py:29: DeprecationWarning: html5lib's sanitizer is deprecated; see https://github.com/html5lib/html5lib-python/issues/443 and please let us know if Bleach is unsuitable for your needs\n",
            "/usr/local/lib/python3.7/dist-packages/torch/distributed/_sharded_tensor/__init__.py:10: DeprecationWarning: torch.distributed._sharded_tensor will be deprecated, use torch.distributed._shard.sharded_tensor instead\n",
            "/usr/local/lib/python3.7/dist-packages/torch/distributed/_sharding_spec/__init__.py:10: DeprecationWarning: torch.distributed._sharding_spec will be deprecated, use torch.distributed._shard.sharding_spec instead\n"
          ]
        },
        {
          "output_type": "stream",
          "name": "stdout",
          "text": [
            "No CUDA runtime is found, using CUDA_HOME='/usr/local/cuda'\n"
          ]
        },
        {
          "output_type": "stream",
          "name": "stderr",
          "text": [
            "/usr/lib/python3.7/pkgutil.py:107: VisibleDeprecationWarning: zmq.eventloop.minitornado is deprecated in pyzmq 14.0 and will be removed.\n",
            "    Install tornado itself to use zmq with the tornado IOLoop.\n",
            "    \n"
          ]
        },
        {
          "output_type": "stream",
          "name": "stdout",
          "text": [
            "Cython              colorcet            jupyterlab_widgets  requests\n",
            "IPython             colorlover          kaggle              requests_oauthlib\n",
            "OpenGL              colorsys            kanren              resampy\n",
            "PIL                 community           kapre               resource\n",
            "ScreenResolution    compileall          keras               rlcompleter\n",
            "__future__          concurrent          keras_preprocessing rmagic\n",
            "_abc                confection          keyword             rpy2\n",
            "_ast                configparser        kiwisolver          rsa\n",
            "_asyncio            cons                korean_lunar_calendar runpy\n",
            "_bisect             contextlib          langcodes           sched\n",
            "_blake2             contextlib2         lib2to3             scipy\n",
            "_bootlocale         contextvars         libfuturize         scs\n",
            "_bz2                convertdate         libpasteurize       seaborn\n",
            "_cffi_backend       copy                librosa             secrets\n",
            "_codecs             copyreg             lightgbm            select\n",
            "_codecs_cn          crashtest           linecache           selectors\n",
            "_codecs_hk          crcmod              llvmlite            send2trash\n",
            "_codecs_iso2022     crypt               lmdb                setuptools\n",
            "_codecs_jp          csimdjson           locale              setuptools_git\n",
            "_codecs_kr          csv                 locket              shapely\n",
            "_codecs_tw          ctypes              logging             shelve\n",
            "_collections        cufflinks           lsb_release         shlex\n",
            "_collections_abc    curses              lunarcalendar       shutil\n",
            "_compat_pickle      cv2                 lxml                signal\n",
            "_compression        cvxopt              lzma                simdjson\n",
            "_contextvars        cvxpy               macpath             site\n",
            "_crypt              cycler              mailbox             sitecustomize\n",
            "_csv                cymem               mailcap             six\n",
            "_ctypes             cython              markdown            skimage\n",
            "_ctypes_test        cythonmagic         markupsafe          sklearn\n",
            "_curses             daft                marshal             sklearn_pandas\n",
            "_curses_panel       dask                marshmallow         slugify\n",
            "_cvxcore            dataclasses         math                smart_open\n",
            "_datetime           datascience         matplotlib          smtpd\n",
            "_dbm                datetime            matplotlib_venn     smtplib\n",
            "_decimal            dateutil            mimetypes           sndhdr\n",
            "_distutils_hack     db_dtypes           missingno           snowballstemmer\n",
            "_dlib_pybind11      dbm                 mistune             socket\n",
            "_dummy_thread       dbus                mizani              socketserver\n",
            "_ecos               debugpy             mlxtend             socks\n",
            "_elementtree        decimal             mmap                sockshandler\n",
            "_functools          decorator           modulefinder        softwareproperties\n",
            "_hashlib            defusedxml          more_itertools      sortedcontainers\n",
            "_heapq              descartes           moviepy             soundfile\n",
            "_imp                difflib             mpmath              spacy\n",
            "_io                 dill                msgpack             spacy_legacy\n",
            "_json               dis                 multidict           spacy_loggers\n",
            "_locale             distributed         multipledispatch    sphinx\n",
            "_lsprof             distutils           multiprocessing     spwd\n",
            "_lzma               dlib                multitasking        sql\n",
            "_markupbase         dns                 murmurhash          sqlalchemy\n",
            "_md5                docs                music21             sqlite3\n",
            "_multibytecodec     doctest             natsort             sqlparse\n",
            "_multiprocessing    docutils            nbconvert           sre_compile\n",
            "_opcode             dopamine            nbformat            sre_constants\n",
            "_operator           dot_parser          netCDF4             sre_parse\n",
            "_osx_support        dummy_threading     netrc               srsly\n",
            "_pickle             easydict            networkx            ssl\n",
            "_plotly_future_     ecos                nibabel             stan\n",
            "_plotly_utils       editdistance        nis                 stat\n",
            "_posixsubprocess    ee                  nisext              statistics\n",
            "_py_abc             email               nltk                statsmodels\n",
            "_pydecimal          en_core_web_sm      nntplib             storemagic\n",
            "_pyio               encodings           notebook            string\n",
            "_pyrsistent_version entrypoints         ntpath              stringprep\n",
            "_pytest             enum                nturl2path          struct\n",
            "_queue              ephem               numba               subprocess\n",
            "_random             erfa                numbergen           sunau\n",
            "_rinterface_cffi_abi errno               numbers             symbol\n",
            "_rinterface_cffi_api et_xmlfile          numexpr             sympy\n",
            "_scs_direct         etils               numpy               sympyprinting\n",
            "_scs_indirect       etuples             oauth2client        symtable\n",
            "_sha1               fa2                 oauthlib            sys\n",
            "_sha256             fastai              ogr                 sysconfig\n",
            "_sha3               fastcore            okgrade             syslog\n",
            "_sha512             fastdownload        opcode              tables\n",
            "_signal             fastdtw             openpyxl            tabnanny\n",
            "_sitebuiltins       fastjsonschema      operator            tabulate\n",
            "_socket             fastprogress        opt_einsum          tarfile\n",
            "_soundfile          fastrlock           optparse            tblib\n",
            "_sqlite3            faulthandler        os                  telnetlib\n",
            "_sre                fcntl               osgeo               tempfile\n",
            "_ssl                feather             osqp                tenacity\n",
            "_stat               filecmp             osqppurepy          tensorboard\n",
            "_string             fileinput           osr                 tensorboard_data_server\n",
            "_strptime           filelock            ossaudiodev         tensorboard_plugin_wit\n",
            "_struct             firebase_admin      packaging           tensorflow\n",
            "_symtable           fix_yahoo_finance   palettable          tensorflow_datasets\n",
            "_sysconfigdata_m_linux_x86_64-linux-gnu flask               pandas              tensorflow_estimator\n",
            "_sysconfigdata_m_x86_64-linux-gnu flatbuffers         pandas_gbq          tensorflow_gcs_config\n",
            "_testbuffer         fnmatch             pandas_profiling    tensorflow_hub\n",
            "_testcapi           folium              pandocfilters       tensorflow_io_gcs_filesystem\n",
            "_testimportmultiple formatter           panel               tensorflow_metadata\n",
            "_testmultiphase     fractions           param               tensorflow_probability\n",
            "_thread             frozenlist          parser              termcolor\n",
            "_threading_local    fsspec              parso               terminado\n",
            "_tkinter            ftplib              partd               termios\n",
            "_tracemalloc        functools           past                test\n",
            "_warnings           future              pasta               testpath\n",
            "_weakref            gast                pastel              tests\n",
            "_weakrefset         gc                  pathlib             text_unidecode\n",
            "_xxtestfuzz         gdal                pathy               textblob\n",
            "_yaml               gdalconst           patsy               textwrap\n",
            "abc                 gdalnumeric         pdb                 thinc\n",
            "absl                gdown               pep517              this\n",
            "aeppl               genericpath         pexpect             threading\n",
            "aesara              gensim              pickle              threadpoolctl\n",
            "aifc                geographiclib       pickleshare         tifffile\n",
            "aiohttp             geopy               pickletools         time\n",
            "aiosignal           getopt              pip                 timeit\n",
            "alabaster           getpass             pipes               tkinter\n",
            "albumentations      gettext             piptools            tlz\n",
            "altair              gi                  pkg_resources       token\n",
            "antigravity         gin                 pkgutil             tokenize\n",
            "apiclient           glob                platform            toml\n",
            "appdirs             glob2               plistlib            tomli\n",
            "apt                 gnm                 plotly              toolz\n",
            "apt_inst            google_auth_httplib2 plotlywidget        torch\n",
            "apt_pkg             google_auth_oauthlib plotnine            torchaudio\n",
            "aptsources          google_crc32c       pluggy              torchgen\n",
            "argparse            google_drive_downloader pooch               torchsummary\n",
            "array               googleapiclient     poplib              torchtext\n",
            "arviz               googlesearch        portpicker          torchvision\n",
            "ast                 graphviz            posix               tornado\n",
            "astor               greenlet            posixpath           tqdm\n",
            "astropy             gridfs              pprint              trace\n",
            "astunparse          grp                 prefetch_generator  traceback\n",
            "async_timeout       grpc                preshed             tracemalloc\n",
            "asynchat            grpc_status         prettytable         traitlets\n",
            "asyncio             gspread             profile             tree\n",
            "asyncore            gspread_dataframe   progressbar         tty\n",
            "asynctest           gym                 prometheus_client   turtle\n",
            "atari_py            gym_notices         promise             tweepy\n",
            "atexit              gzip                prompt_toolkit      typeguard\n",
            "atomicwrites        h5py                prophet             typer\n",
            "attr                hashlib             proto               types\n",
            "attrs               heapdict            pstats              typing\n",
            "audioop             heapq               psutil              typing_extensions\n",
            "audioread           hijri_converter     psycopg2            tzlocal\n",
            "autograd            hmac                pty                 unicodedata\n",
            "autoreload          holidays            ptyprocess          unification\n",
            "babel               holoviews           pwd                 unittest\n",
            "backcall            html                py                  uritemplate\n",
            "base64              html5lib            py_compile          urllib\n",
            "bdb                 http                pyarrow             urllib3\n",
            "bin                 httpimport          pyasn1              uu\n",
            "binascii            httplib2            pyasn1_modules      uuid\n",
            "binhex              httpstan            pyclbr              vega_datasets\n",
            "bisect              humanize            pycocotools         venv\n",
            "bleach              hyperopt            pycparser           vis\n",
            "blis                idna                pyct                warnings\n",
            "bokeh               imageio             pydantic            wasabi\n",
            "boost               imagesize           pydata_google_auth  wave\n",
            "branca              imaplib             pydoc               wcwidth\n",
            "bs4                 imblearn            pydoc_data          weakref\n",
            "bson                imgaug              pydot               webargs\n",
            "builtins            imghdr              pydot_ng            webbrowser\n",
            "bz2                 imp                 pydotplus           webencodings\n",
            "cProfile            importlib           pydrive             werkzeug\n",
            "cachecontrol        importlib_metadata  pyemd               wheel\n",
            "cached_property     importlib_resources pyexpat             widgetsnbextension\n",
            "cachetools          imutils             pygments            wordcloud\n",
            "caffe2              inflect             pygtkcompat         wrapt\n",
            "calendar            inspect             pylab               wsgiref\n",
            "catalogue           intervaltree        pylev               xarray\n",
            "certifi             io                  pymc                xarray_einstats\n",
            "cffi                ipaddress           pymeeus             xdrlib\n",
            "cftime              ipykernel           pymongo             xgboost\n",
            "cgi                 ipykernel_launcher  pymystem3           xkit\n",
            "cgitb               ipython_genutils    pyparsing           xlrd\n",
            "chardet             ipywidgets          pyrsistent          xlwt\n",
            "charset_normalizer  isympy              pysndfile           xml\n",
            "chunk               itertools           pytest              xmlrpc\n",
            "clang               itsdangerous        python_utils        xxlimited\n",
            "click               jax                 pytz                xxsubtype\n",
            "client              jaxlib              pyviz_comms         yaml\n",
            "clikit              jieba               pywt                yarl\n",
            "cloudpickle         jinja2              pyximport           yellowbrick\n",
            "cmake               joblib              qdldl               zict\n",
            "cmath               jpeg4py             qudida              zipapp\n",
            "cmd                 json                queue               zipfile\n",
            "cmdstanpy           jsonschema          quopri              zipimport\n",
            "code                jupyter             random              zipp\n",
            "codecs              jupyter_client      re                  zlib\n",
            "codeop              jupyter_console     readline            zmq\n",
            "colab               jupyter_core        regex               \n",
            "collections         jupyterlab_plotly   reprlib             \n",
            "\n",
            "Enter any module name to get more help.  Or, type \"modules spam\" to search\n",
            "for modules whose name or summary contain the string \"spam\".\n",
            "\n"
          ]
        }
      ],
      "source": [
        "help(\"modules\")"
      ]
    },
    {
      "cell_type": "markdown",
      "id": "9e841d35",
      "metadata": {
        "id": "9e841d35"
      },
      "source": [
        "## Importing a library\n",
        "\n",
        "\n",
        "The following cell will try to import the pandas data reader library.\n",
        "\n",
        "Pandas Datareader is a Python package that allows us to create a pandas DataFrame by using some popular data sources available on the internet including:\n",
        "\n",
        "* Yahoo Finance\n",
        "* Google Finance\n",
        "* Morningstar\n",
        "* IEX\n",
        "* Robinhood\n",
        "* Engima\n",
        "* Quandl\n",
        "* FRED\n",
        "* World Bank\n",
        "* OECD and many more."
      ]
    },
    {
      "cell_type": "code",
      "execution_count": 2,
      "id": "35083bbe",
      "metadata": {
        "id": "35083bbe",
        "colab": {
          "base_uri": "https://localhost:8080/",
          "height": 317
        },
        "outputId": "69c23905-dc21-49d4-e040-9680185a68da"
      },
      "outputs": [
        {
          "output_type": "error",
          "ename": "ModuleNotFoundError",
          "evalue": "ignored",
          "traceback": [
            "\u001b[0;31m---------------------------------------------------------------------------\u001b[0m",
            "\u001b[0;31mModuleNotFoundError\u001b[0m                       Traceback (most recent call last)",
            "\u001b[0;32m<ipython-input-2-7e0f2d1207f1>\u001b[0m in \u001b[0;36m<module>\u001b[0;34m\u001b[0m\n\u001b[0;32m----> 1\u001b[0;31m \u001b[0;32mfrom\u001b[0m \u001b[0mpandas_datareader\u001b[0m \u001b[0;32mimport\u001b[0m \u001b[0mdata\u001b[0m\u001b[0;34m,\u001b[0m \u001b[0mwb\u001b[0m\u001b[0;34m\u001b[0m\u001b[0;34m\u001b[0m\u001b[0m\n\u001b[0m",
            "\u001b[0;31mModuleNotFoundError\u001b[0m: No module named 'pandas_datareader'",
            "",
            "\u001b[0;31m---------------------------------------------------------------------------\u001b[0;32m\nNOTE: If your import is failing due to a missing package, you can\nmanually install dependencies using either !pip or !apt.\n\nTo view examples of installing some common dependencies, click the\n\"Open Examples\" button below.\n\u001b[0;31m---------------------------------------------------------------------------\u001b[0m\n"
          ],
          "errorDetails": {
            "actions": [
              {
                "action": "open_url",
                "actionText": "Open Examples",
                "url": "/notebooks/snippets/importing_libraries.ipynb"
              }
            ]
          }
        }
      ],
      "source": [
        "from pandas_datareader import data, wb"
      ]
    },
    {
      "cell_type": "markdown",
      "id": "75f5c0e9",
      "metadata": {
        "id": "75f5c0e9"
      },
      "source": [
        "## Installing it \n",
        "\n",
        "As we have seen, we cgot an error on the previous cell. When errors appear after trying to run a cell, it is a good practice to Google the last line of the error message so that you can find what is causing such error.\n",
        "\n",
        "This case's message mentions that there is no module named \"pandas_datareader\", which means that we have to install its library. The following link has the full description of the pandas data reader and which command you have to execute so that you can use it: https://pypi.org/project/data-reader/"
      ]
    },
    {
      "cell_type": "markdown",
      "id": "3d0b98f3",
      "metadata": {
        "id": "3d0b98f3"
      },
      "source": [
        "The website mentions that we have to run: **pip install data-reader**\n",
        "\n",
        "(Notice that the name of the package \"data-reader\" is not the same as the module name we tried to import \"pandas_datareader\" so be sure that you have the right package name to install)\n",
        "\n",
        "In a jupyter notebook, you will have to add an exclamation mark at the beginnning of it as you can see in the next cell:"
      ]
    },
    {
      "cell_type": "code",
      "execution_count": null,
      "id": "bdc605fa",
      "metadata": {
        "id": "bdc605fa",
        "outputId": "1b6f1388-8fbc-4dec-b18b-fe16c86a8616",
        "colab": {
          "base_uri": "https://localhost:8080/"
        }
      },
      "outputs": [
        {
          "output_type": "stream",
          "name": "stdout",
          "text": [
            "Looking in indexes: https://pypi.org/simple, https://us-python.pkg.dev/colab-wheels/public/simple/\n",
            "Collecting pandas_datareader\n",
            "  Downloading pandas_datareader-0.10.0-py3-none-any.whl (109 kB)\n",
            "\u001b[K     |████████████████████████████████| 109 kB 5.2 MB/s \n",
            "\u001b[?25hRequirement already satisfied: lxml in /usr/local/lib/python3.7/dist-packages (from pandas_datareader) (4.9.1)\n",
            "Requirement already satisfied: pandas>=0.23 in /usr/local/lib/python3.7/dist-packages (from pandas_datareader) (1.3.5)\n",
            "Requirement already satisfied: requests>=2.19.0 in /usr/local/lib/python3.7/dist-packages (from pandas_datareader) (2.23.0)\n",
            "Requirement already satisfied: pytz>=2017.3 in /usr/local/lib/python3.7/dist-packages (from pandas>=0.23->pandas_datareader) (2022.6)\n",
            "Requirement already satisfied: numpy>=1.17.3 in /usr/local/lib/python3.7/dist-packages (from pandas>=0.23->pandas_datareader) (1.21.6)\n",
            "Requirement already satisfied: python-dateutil>=2.7.3 in /usr/local/lib/python3.7/dist-packages (from pandas>=0.23->pandas_datareader) (2.8.2)\n",
            "Requirement already satisfied: six>=1.5 in /usr/local/lib/python3.7/dist-packages (from python-dateutil>=2.7.3->pandas>=0.23->pandas_datareader) (1.15.0)\n",
            "Requirement already satisfied: urllib3!=1.25.0,!=1.25.1,<1.26,>=1.21.1 in /usr/local/lib/python3.7/dist-packages (from requests>=2.19.0->pandas_datareader) (1.24.3)\n",
            "Requirement already satisfied: idna<3,>=2.5 in /usr/local/lib/python3.7/dist-packages (from requests>=2.19.0->pandas_datareader) (2.10)\n",
            "Requirement already satisfied: certifi>=2017.4.17 in /usr/local/lib/python3.7/dist-packages (from requests>=2.19.0->pandas_datareader) (2022.9.24)\n",
            "Requirement already satisfied: chardet<4,>=3.0.2 in /usr/local/lib/python3.7/dist-packages (from requests>=2.19.0->pandas_datareader) (3.0.4)\n",
            "Installing collected packages: pandas-datareader\n",
            "Successfully installed pandas-datareader-0.10.0\n"
          ]
        }
      ],
      "source": [
        "!pip install pandas_datareader"
      ]
    },
    {
      "cell_type": "markdown",
      "id": "a62f0ff0",
      "metadata": {
        "id": "a62f0ff0"
      },
      "source": [
        "You should have a message on your screen, after executing the previous cell, that says: \"Successfully installed pandas-datareader...\"\n",
        "This means that you can now import it on your code and start using it. So let's try to import it again:"
      ]
    },
    {
      "cell_type": "code",
      "execution_count": null,
      "id": "d26396a1",
      "metadata": {
        "id": "d26396a1"
      },
      "outputs": [],
      "source": [
        "from pandas_datareader import data, wb"
      ]
    },
    {
      "cell_type": "markdown",
      "id": "9a0345cb",
      "metadata": {
        "id": "9a0345cb"
      },
      "source": [
        "Some additional libraries that we'll need too:"
      ]
    },
    {
      "cell_type": "code",
      "execution_count": null,
      "id": "67458f87",
      "metadata": {
        "id": "67458f87"
      },
      "outputs": [],
      "source": [
        "import pandas as pd\n",
        "import matplotlib.pyplot as plt\n",
        "%matplotlib inline"
      ]
    },
    {
      "cell_type": "markdown",
      "id": "cb4a029c",
      "metadata": {
        "id": "cb4a029c"
      },
      "source": [
        "Now we can use data reader, so let's try to extract stock information about Bank of America (via Yahoo) from 2006 until the end of 2016:"
      ]
    },
    {
      "cell_type": "code",
      "execution_count": null,
      "id": "bcf1c323",
      "metadata": {
        "id": "bcf1c323",
        "outputId": "9ee55f24-508b-4662-f86c-8359f6cc374b",
        "colab": {
          "base_uri": "https://localhost:8080/",
          "height": 238
        }
      },
      "outputs": [
        {
          "output_type": "execute_result",
          "data": {
            "text/plain": [
              "                 High        Low       Open      Close      Volume  Adj Close\n",
              "Date                                                                         \n",
              "2006-01-03  47.180000  46.150002  46.919998  47.080002  16296700.0  33.364235\n",
              "2006-01-04  47.240002  46.450001  47.000000  46.580002  17757900.0  33.009899\n",
              "2006-01-05  46.830002  46.320000  46.580002  46.639999  14970700.0  33.052425\n",
              "2006-01-06  46.910000  46.349998  46.799999  46.570000  12599800.0  33.002831\n",
              "2006-01-09  46.970001  46.360001  46.720001  46.599998  15619400.0  33.024082"
            ],
            "text/html": [
              "\n",
              "  <div id=\"df-399aced1-0a49-4083-92a2-a8f4bf0507ec\">\n",
              "    <div class=\"colab-df-container\">\n",
              "      <div>\n",
              "<style scoped>\n",
              "    .dataframe tbody tr th:only-of-type {\n",
              "        vertical-align: middle;\n",
              "    }\n",
              "\n",
              "    .dataframe tbody tr th {\n",
              "        vertical-align: top;\n",
              "    }\n",
              "\n",
              "    .dataframe thead th {\n",
              "        text-align: right;\n",
              "    }\n",
              "</style>\n",
              "<table border=\"1\" class=\"dataframe\">\n",
              "  <thead>\n",
              "    <tr style=\"text-align: right;\">\n",
              "      <th></th>\n",
              "      <th>High</th>\n",
              "      <th>Low</th>\n",
              "      <th>Open</th>\n",
              "      <th>Close</th>\n",
              "      <th>Volume</th>\n",
              "      <th>Adj Close</th>\n",
              "    </tr>\n",
              "    <tr>\n",
              "      <th>Date</th>\n",
              "      <th></th>\n",
              "      <th></th>\n",
              "      <th></th>\n",
              "      <th></th>\n",
              "      <th></th>\n",
              "      <th></th>\n",
              "    </tr>\n",
              "  </thead>\n",
              "  <tbody>\n",
              "    <tr>\n",
              "      <th>2006-01-03</th>\n",
              "      <td>47.180000</td>\n",
              "      <td>46.150002</td>\n",
              "      <td>46.919998</td>\n",
              "      <td>47.080002</td>\n",
              "      <td>16296700.0</td>\n",
              "      <td>33.364235</td>\n",
              "    </tr>\n",
              "    <tr>\n",
              "      <th>2006-01-04</th>\n",
              "      <td>47.240002</td>\n",
              "      <td>46.450001</td>\n",
              "      <td>47.000000</td>\n",
              "      <td>46.580002</td>\n",
              "      <td>17757900.0</td>\n",
              "      <td>33.009899</td>\n",
              "    </tr>\n",
              "    <tr>\n",
              "      <th>2006-01-05</th>\n",
              "      <td>46.830002</td>\n",
              "      <td>46.320000</td>\n",
              "      <td>46.580002</td>\n",
              "      <td>46.639999</td>\n",
              "      <td>14970700.0</td>\n",
              "      <td>33.052425</td>\n",
              "    </tr>\n",
              "    <tr>\n",
              "      <th>2006-01-06</th>\n",
              "      <td>46.910000</td>\n",
              "      <td>46.349998</td>\n",
              "      <td>46.799999</td>\n",
              "      <td>46.570000</td>\n",
              "      <td>12599800.0</td>\n",
              "      <td>33.002831</td>\n",
              "    </tr>\n",
              "    <tr>\n",
              "      <th>2006-01-09</th>\n",
              "      <td>46.970001</td>\n",
              "      <td>46.360001</td>\n",
              "      <td>46.720001</td>\n",
              "      <td>46.599998</td>\n",
              "      <td>15619400.0</td>\n",
              "      <td>33.024082</td>\n",
              "    </tr>\n",
              "  </tbody>\n",
              "</table>\n",
              "</div>\n",
              "      <button class=\"colab-df-convert\" onclick=\"convertToInteractive('df-399aced1-0a49-4083-92a2-a8f4bf0507ec')\"\n",
              "              title=\"Convert this dataframe to an interactive table.\"\n",
              "              style=\"display:none;\">\n",
              "        \n",
              "  <svg xmlns=\"http://www.w3.org/2000/svg\" height=\"24px\"viewBox=\"0 0 24 24\"\n",
              "       width=\"24px\">\n",
              "    <path d=\"M0 0h24v24H0V0z\" fill=\"none\"/>\n",
              "    <path d=\"M18.56 5.44l.94 2.06.94-2.06 2.06-.94-2.06-.94-.94-2.06-.94 2.06-2.06.94zm-11 1L8.5 8.5l.94-2.06 2.06-.94-2.06-.94L8.5 2.5l-.94 2.06-2.06.94zm10 10l.94 2.06.94-2.06 2.06-.94-2.06-.94-.94-2.06-.94 2.06-2.06.94z\"/><path d=\"M17.41 7.96l-1.37-1.37c-.4-.4-.92-.59-1.43-.59-.52 0-1.04.2-1.43.59L10.3 9.45l-7.72 7.72c-.78.78-.78 2.05 0 2.83L4 21.41c.39.39.9.59 1.41.59.51 0 1.02-.2 1.41-.59l7.78-7.78 2.81-2.81c.8-.78.8-2.07 0-2.86zM5.41 20L4 18.59l7.72-7.72 1.47 1.35L5.41 20z\"/>\n",
              "  </svg>\n",
              "      </button>\n",
              "      \n",
              "  <style>\n",
              "    .colab-df-container {\n",
              "      display:flex;\n",
              "      flex-wrap:wrap;\n",
              "      gap: 12px;\n",
              "    }\n",
              "\n",
              "    .colab-df-convert {\n",
              "      background-color: #E8F0FE;\n",
              "      border: none;\n",
              "      border-radius: 50%;\n",
              "      cursor: pointer;\n",
              "      display: none;\n",
              "      fill: #1967D2;\n",
              "      height: 32px;\n",
              "      padding: 0 0 0 0;\n",
              "      width: 32px;\n",
              "    }\n",
              "\n",
              "    .colab-df-convert:hover {\n",
              "      background-color: #E2EBFA;\n",
              "      box-shadow: 0px 1px 2px rgba(60, 64, 67, 0.3), 0px 1px 3px 1px rgba(60, 64, 67, 0.15);\n",
              "      fill: #174EA6;\n",
              "    }\n",
              "\n",
              "    [theme=dark] .colab-df-convert {\n",
              "      background-color: #3B4455;\n",
              "      fill: #D2E3FC;\n",
              "    }\n",
              "\n",
              "    [theme=dark] .colab-df-convert:hover {\n",
              "      background-color: #434B5C;\n",
              "      box-shadow: 0px 1px 3px 1px rgba(0, 0, 0, 0.15);\n",
              "      filter: drop-shadow(0px 1px 2px rgba(0, 0, 0, 0.3));\n",
              "      fill: #FFFFFF;\n",
              "    }\n",
              "  </style>\n",
              "\n",
              "      <script>\n",
              "        const buttonEl =\n",
              "          document.querySelector('#df-399aced1-0a49-4083-92a2-a8f4bf0507ec button.colab-df-convert');\n",
              "        buttonEl.style.display =\n",
              "          google.colab.kernel.accessAllowed ? 'block' : 'none';\n",
              "\n",
              "        async function convertToInteractive(key) {\n",
              "          const element = document.querySelector('#df-399aced1-0a49-4083-92a2-a8f4bf0507ec');\n",
              "          const dataTable =\n",
              "            await google.colab.kernel.invokeFunction('convertToInteractive',\n",
              "                                                     [key], {});\n",
              "          if (!dataTable) return;\n",
              "\n",
              "          const docLinkHtml = 'Like what you see? Visit the ' +\n",
              "            '<a target=\"_blank\" href=https://colab.research.google.com/notebooks/data_table.ipynb>data table notebook</a>'\n",
              "            + ' to learn more about interactive tables.';\n",
              "          element.innerHTML = '';\n",
              "          dataTable['output_type'] = 'display_data';\n",
              "          await google.colab.output.renderOutput(dataTable, element);\n",
              "          const docLink = document.createElement('div');\n",
              "          docLink.innerHTML = docLinkHtml;\n",
              "          element.appendChild(docLink);\n",
              "        }\n",
              "      </script>\n",
              "    </div>\n",
              "  </div>\n",
              "  "
            ]
          },
          "metadata": {},
          "execution_count": 5
        }
      ],
      "source": [
        "BAC = data.DataReader('BAC', 'yahoo', start='2006-01-01', end='2016-01-01')\n",
        "BAC.head()"
      ]
    },
    {
      "cell_type": "markdown",
      "id": "c3d93778",
      "metadata": {
        "id": "c3d93778"
      },
      "source": [
        "Finally, let's try to see the Bank of America's closing price through the ten years we extracted:"
      ]
    },
    {
      "cell_type": "code",
      "execution_count": null,
      "id": "15cc87b0",
      "metadata": {
        "id": "15cc87b0",
        "outputId": "4390b36b-3434-47e9-ab44-ee927402ba28",
        "colab": {
          "base_uri": "https://localhost:8080/",
          "height": 285
        }
      },
      "outputs": [
        {
          "output_type": "display_data",
          "data": {
            "text/plain": [
              "<Figure size 1440x288 with 1 Axes>"
            ],
            "image/png": "[encoded data removed]"
          },
          "metadata": {
            "needs_background": "light"
          }
        }
      ],
      "source": [
        "close = BAC['Close']\n",
        "plt.figure(figsize=(20,4))\n",
        "ax = close.plot(title='Bank of America')\n",
        "ax.set_xlabel('Year')\n",
        "ax.set_ylabel('Close')\n",
        "ax.grid()\n",
        "plt.show()"
      ]
    }
  ],
  "metadata": {
    "kernelspec": {
      "display_name": "Python 3",
      "language": "python",
      "name": "python3"
    },
    "language_info": {
      "codemirror_mode": {
        "name": "ipython",
        "version": 3
      },
      "file_extension": ".py",
      "mimetype": "text/x-python",
      "name": "python",
      "nbconvert_exporter": "python",
      "pygments_lexer": "ipython3",
      "version": "3.8.8"
    },
    "colab": {
      "provenance": [],
      "include_colab_link": true
    }
  },
  "nbformat": 4,
  "nbformat_minor": 5
}