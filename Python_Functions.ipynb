{
  "nbformat": 4,
  "nbformat_minor": 0,
  "metadata": {
    "colab": {
      "provenance": [],
      "collapsed_sections": [],
      "authorship_tag": "ABX9TyNRASjKkgYgOikeq+T5xCHw",
      "include_colab_link": true
    },
    "kernelspec": {
      "name": "python3",
      "display_name": "Python 3"
    },
    "language_info": {
      "name": "python"
    }
  },
  "cells": [
    {
      "cell_type": "markdown",
      "metadata": {
        "id": "view-in-github",
        "colab_type": "text"
      },
      "source": [
        "<a href=\"https://colab.research.google.com/github/DLPY/python2/blob/main/Python_Functions.ipynb\" target=\"_parent\"><img src=\"https://colab.research.google.com/assets/colab-badge.svg\" alt=\"Open In Colab\"/></a>"
      ]
    },
    {
      "cell_type": "markdown",
      "source": [
        "# 1.Simple Function"
      ],
      "metadata": {
        "id": "y-iMQxDC4aW0"
      }
    },
    {
      "cell_type": "code",
      "execution_count": null,
      "metadata": {
        "id": "WohCx6Co4HOy"
      },
      "outputs": [],
      "source": [
        "def my_function():\n",
        "    print(\"Hello From My Function!\")\n",
        "\n",
        "# Call the Function\n",
        "my_function()"
      ]
    },
    {
      "cell_type": "markdown",
      "source": [
        "# 2.Function with Arguments"
      ],
      "metadata": {
        "id": "GrGXRbht4lY7"
      }
    },
    {
      "cell_type": "code",
      "source": [
        "def my_function_with_args(username, greeting):\n",
        "    print(\"Hello, %s , From My Function!, I wish you %s\"%(username, greeting))\n",
        "\n",
        "# Call the Function\n",
        "my_function_with_args('John', 'Good Luck.')"
      ],
      "metadata": {
        "id": "wT3DEG8c4T8K"
      },
      "execution_count": null,
      "outputs": []
    },
    {
      "cell_type": "markdown",
      "source": [
        "# 3.Arbitrary Arguments (*args)"
      ],
      "metadata": {
        "id": "K9w7yMKE7yd2"
      }
    },
    {
      "cell_type": "code",
      "source": [
        "def arb_arg(*kids):\n",
        "  print(\"The youngest child is \" + kids[-1])\n",
        "\n",
        "arb_arg(\"Emil\", \"Tobias\", \"Linus\")"
      ],
      "metadata": {
        "id": "GvrDYMC-5Aon"
      },
      "execution_count": null,
      "outputs": []
    },
    {
      "cell_type": "markdown",
      "source": [
        "# 4.Keyword Argument"
      ],
      "metadata": {
        "id": "r5_HHHRp8Mst"
      }
    },
    {
      "cell_type": "code",
      "source": [
        "def key_arg(child3, child2, child1):\n",
        "  print(\"The youngest child is \" + child3)\n",
        "\n",
        "key_arg(child1 = \"Emil\", child2 = \"Tobias\", child3 = \"Linus\")"
      ],
      "metadata": {
        "id": "zgJGPhKH73Y9"
      },
      "execution_count": null,
      "outputs": []
    },
    {
      "cell_type": "markdown",
      "source": [
        "# 5.Arbitrary & Keyword Arguments (**kwargs)"
      ],
      "metadata": {
        "id": "uLbqjutm8g3v"
      }
    },
    {
      "cell_type": "code",
      "source": [
        "def arb_key_arg(**kid):\n",
        "  print(\"His last name is \" + kid[\"lname\"])\n",
        "\n",
        "arb_key_arg(fname = \"Tobias\", lname = \"Refsnes\")"
      ],
      "metadata": {
        "id": "KJAiRvKz8Si4"
      },
      "execution_count": null,
      "outputs": []
    },
    {
      "cell_type": "markdown",
      "source": [
        "# 6.Default Parameter Value"
      ],
      "metadata": {
        "id": "k0u-v97S86bA"
      }
    },
    {
      "cell_type": "code",
      "source": [
        "def default_function(country = \"Norway\"):\n",
        "  print(\"I am from \" + country)\n",
        "\n",
        "default_function(\"Sweden\")\n",
        "default_function(\"India\")\n",
        "default_function()\n",
        "default_function(\"Brazil\")"
      ],
      "metadata": {
        "id": "RXVUu1ir83YX"
      },
      "execution_count": null,
      "outputs": []
    },
    {
      "cell_type": "markdown",
      "source": [
        "# 7.List as an Argument"
      ],
      "metadata": {
        "id": "xCad1bo29Ds3"
      }
    },
    {
      "cell_type": "code",
      "source": [
        "def list_arg(food):\n",
        "  for x in food:\n",
        "    print(x)\n",
        "    \n",
        "# List input\n",
        "fruits = [\"apple\", \"banana\", \"cherry\"]\n",
        "\n",
        "list_arg(fruits)"
      ],
      "metadata": {
        "id": "CmNCe5sK9AXN"
      },
      "execution_count": null,
      "outputs": []
    },
    {
      "cell_type": "markdown",
      "source": [
        "# 8.Function With Return statement"
      ],
      "metadata": {
        "id": "bElHz3J85AIx"
      }
    },
    {
      "cell_type": "code",
      "source": [
        "def sum_two_numbers(a, b):\n",
        "    return 5 * (a + b)\n",
        "\n",
        "sum_two_numbers(2, 3)"
      ],
      "metadata": {
        "id": "kdeHfGTq4mD3"
      },
      "execution_count": null,
      "outputs": []
    },
    {
      "cell_type": "markdown",
      "source": [
        "# 9.Function as an Argument"
      ],
      "metadata": {
        "id": "qQPteLwZ96tO"
      }
    },
    {
      "cell_type": "code",
      "source": [
        "def name():\n",
        "    return \"Sam\"\n",
        "\n",
        "def greeting(a):\n",
        "    print(\"Hello \", a)\n",
        "\n",
        "# passing function name() as an argument to the function greeting\n",
        "greeting(name())"
      ],
      "metadata": {
        "id": "9LYQetug9MZZ"
      },
      "execution_count": null,
      "outputs": []
    },
    {
      "cell_type": "markdown",
      "source": [
        "# 10.Recursion"
      ],
      "metadata": {
        "id": "mhE3OEhSHpO_"
      }
    },
    {
      "cell_type": "code",
      "source": [
        "def tri_recursion(k):\n",
        "  if(k > 0):\n",
        "    result = k + tri_recursion(k - 1)\n",
        "    print(result)\n",
        "  else:\n",
        "    result = 0\n",
        "  return result\n",
        "\n",
        "print(\"\\n\\nRecursion Example Results\")\n",
        "tri_recursion(6)"
      ],
      "metadata": {
        "id": "SIrNFWoeFy-A"
      },
      "execution_count": null,
      "outputs": []
    }
  ]
}