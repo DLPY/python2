{
  "cells": [
    {
      "cell_type": "markdown",
      "metadata": {
        "id": "view-in-github",
        "colab_type": "text"
      },
      "source": [
        "<a href=\"https://colab.research.google.com/github/DLPY/python2/blob/main/List_Dict_Set.ipynb\" target=\"_parent\"><img src=\"https://colab.research.google.com/assets/colab-badge.svg\" alt=\"Open In Colab\"/></a>"
      ]
    },
    {
      "cell_type": "markdown",
      "id": "2e6e805e",
      "metadata": {
        "id": "2e6e805e"
      },
      "source": [
        "# List Data Types"
      ]
    },
    {
      "cell_type": "markdown",
      "id": "c0fdbb5c",
      "metadata": {
        "id": "c0fdbb5c"
      },
      "source": [
        "## 1. List"
      ]
    },
    {
      "cell_type": "code",
      "execution_count": null,
      "id": "1ceecce0",
      "metadata": {
        "id": "1ceecce0"
      },
      "outputs": [],
      "source": [
        "c = ['apple', 'banana', 'cherry']"
      ]
    },
    {
      "cell_type": "code",
      "execution_count": null,
      "id": "f013e804",
      "metadata": {
        "id": "f013e804",
        "colab": {
          "base_uri": "https://localhost:8080/"
        },
        "outputId": "799766fb-e853-456d-fcef-87f573f4cff5"
      },
      "outputs": [
        {
          "output_type": "stream",
          "name": "stdout",
          "text": [
            "<class 'list'>\n"
          ]
        }
      ],
      "source": [
        "print(type(c))"
      ]
    },
    {
      "cell_type": "code",
      "execution_count": null,
      "id": "83b69123",
      "metadata": {
        "id": "83b69123"
      },
      "outputs": [],
      "source": [
        "d= list(('apple', 'banana', 'cherry'))"
      ]
    },
    {
      "cell_type": "code",
      "execution_count": null,
      "id": "637276ea",
      "metadata": {
        "id": "637276ea",
        "colab": {
          "base_uri": "https://localhost:8080/"
        },
        "outputId": "b3842188-adc7-48ea-bc3b-8d705d42e34f"
      },
      "outputs": [
        {
          "output_type": "stream",
          "name": "stdout",
          "text": [
            "<class 'list'>\n"
          ]
        }
      ],
      "source": [
        "print(type(d))"
      ]
    },
    {
      "cell_type": "markdown",
      "id": "62120541",
      "metadata": {
        "id": "62120541"
      },
      "source": [
        "### List Methods"
      ]
    },
    {
      "cell_type": "markdown",
      "id": "aba318d3",
      "metadata": {
        "id": "aba318d3"
      },
      "source": [
        "#### 1. Length of the list"
      ]
    },
    {
      "cell_type": "code",
      "execution_count": null,
      "id": "dbb5d4ac",
      "metadata": {
        "id": "dbb5d4ac",
        "colab": {
          "base_uri": "https://localhost:8080/"
        },
        "outputId": "d6637b21-4b8e-4eaa-b142-0392ad38eba7"
      },
      "outputs": [
        {
          "output_type": "stream",
          "name": "stdout",
          "text": [
            "3\n"
          ]
        }
      ],
      "source": [
        "thislist = [\"apple\", \"banana\", \"cherry\"]\n",
        "print(len(thislist))"
      ]
    },
    {
      "cell_type": "markdown",
      "id": "a3aa4745",
      "metadata": {
        "id": "a3aa4745"
      },
      "source": [
        "#### 2. Access List Iems"
      ]
    },
    {
      "cell_type": "code",
      "execution_count": null,
      "id": "ab167954",
      "metadata": {
        "id": "ab167954"
      },
      "outputs": [],
      "source": [
        "thislist = [\"apple\", \"banana\", \"cherry\"]\n",
        "print(thislist[1])"
      ]
    },
    {
      "cell_type": "markdown",
      "id": "a99b0489",
      "metadata": {
        "id": "a99b0489"
      },
      "source": [
        "#### 3. Change List Items"
      ]
    },
    {
      "cell_type": "code",
      "execution_count": null,
      "id": "b2a66d9d",
      "metadata": {
        "id": "b2a66d9d"
      },
      "outputs": [],
      "source": [
        "thislist = [\"apple\", \"banana\", \"cherry\"]\n",
        "thislist[1] = \"blackcurrant\"\n",
        "print(thislist)"
      ]
    },
    {
      "cell_type": "code",
      "execution_count": null,
      "id": "9d532759",
      "metadata": {
        "id": "9d532759"
      },
      "outputs": [],
      "source": [
        "thislist = [\"apple\", \"banana\", \"cherry\", \"orange\", \"kiwi\", \"mango\"]\n",
        "thislist[1:3] = [\"blackcurrant\", \"watermelon\"]\n",
        "print(thislist)"
      ]
    },
    {
      "cell_type": "markdown",
      "id": "ef12fea4",
      "metadata": {
        "id": "ef12fea4"
      },
      "source": [
        "#### 4. Add List Items (Append, Insert, Extend)"
      ]
    },
    {
      "cell_type": "markdown",
      "id": "39628231",
      "metadata": {
        "id": "39628231"
      },
      "source": [
        "##### 1. Append"
      ]
    },
    {
      "cell_type": "code",
      "execution_count": null,
      "id": "d0ffbdd2",
      "metadata": {
        "id": "d0ffbdd2"
      },
      "outputs": [],
      "source": [
        "thislist = [\"apple\", \"banana\", \"cherry\"]\n",
        "print(thislist)\n",
        "thislist.append(\"orange\")\n",
        "print(thislist)"
      ]
    },
    {
      "cell_type": "markdown",
      "id": "97a0d414",
      "metadata": {
        "id": "97a0d414"
      },
      "source": [
        "##### 2. Insert"
      ]
    },
    {
      "cell_type": "code",
      "execution_count": null,
      "id": "931bb970",
      "metadata": {
        "id": "931bb970"
      },
      "outputs": [],
      "source": [
        "thislist = [\"apple\", \"banana\", \"cherry\"]\n",
        "print(thislist)\n",
        "thislist.insert(1, \"orange\")\n",
        "print(thislist)"
      ]
    },
    {
      "cell_type": "markdown",
      "id": "5fa8a82a",
      "metadata": {
        "id": "5fa8a82a"
      },
      "source": [
        "##### 3. Extend"
      ]
    },
    {
      "cell_type": "code",
      "execution_count": null,
      "id": "1a383df6",
      "metadata": {
        "id": "1a383df6"
      },
      "outputs": [],
      "source": [
        "thislist = [\"apple\", \"banana\", \"cherry\"]\n",
        "tropical = [\"mango\", \"pineapple\", \"papaya\"]\n",
        "thislist.extend(tropical)\n",
        "print(thislist)"
      ]
    },
    {
      "cell_type": "markdown",
      "id": "c41e41bc",
      "metadata": {
        "id": "c41e41bc"
      },
      "source": [
        "#### 5. Remove List Items"
      ]
    },
    {
      "cell_type": "markdown",
      "id": "1a78de0b",
      "metadata": {
        "id": "1a78de0b"
      },
      "source": [
        "##### 1. Remove"
      ]
    },
    {
      "cell_type": "code",
      "execution_count": null,
      "id": "7c73d44f",
      "metadata": {
        "id": "7c73d44f"
      },
      "outputs": [],
      "source": [
        "thislist = [\"apple\", \"banana\", \"cherry\"]\n",
        "thislist.remove(\"banana\")\n",
        "print(thislist)"
      ]
    },
    {
      "cell_type": "markdown",
      "id": "c6f149db",
      "metadata": {
        "id": "c6f149db"
      },
      "source": [
        "##### 2.  Pop"
      ]
    },
    {
      "cell_type": "code",
      "execution_count": null,
      "id": "a156ac0f",
      "metadata": {
        "id": "a156ac0f"
      },
      "outputs": [],
      "source": [
        "thislist = [\"apple\", \"banana\", \"cherry\"]\n",
        "print(thislist)\n",
        "thislist.pop(1)\n",
        "print(thislist)"
      ]
    },
    {
      "cell_type": "markdown",
      "id": "9e354b7f",
      "metadata": {
        "id": "9e354b7f"
      },
      "source": [
        "##### 3. Delete"
      ]
    },
    {
      "cell_type": "code",
      "execution_count": null,
      "id": "9cfecc90",
      "metadata": {
        "id": "9cfecc90"
      },
      "outputs": [],
      "source": [
        "thislist = [\"apple\", \"banana\", \"cherry\"]\n",
        "del thislist[0]\n",
        "print(thislist)"
      ]
    },
    {
      "cell_type": "code",
      "execution_count": null,
      "id": "48c1e590",
      "metadata": {
        "id": "48c1e590"
      },
      "outputs": [],
      "source": [
        "thislist = [\"apple\", \"banana\", \"cherry\"]\n",
        "del thislist\n",
        "print(thislist)"
      ]
    },
    {
      "cell_type": "markdown",
      "id": "f67f2d8a",
      "metadata": {
        "id": "f67f2d8a"
      },
      "source": [
        "##### 4. Clear List"
      ]
    },
    {
      "cell_type": "code",
      "execution_count": null,
      "id": "a9e2078e",
      "metadata": {
        "id": "a9e2078e"
      },
      "outputs": [],
      "source": [
        "thislist = [\"apple\", \"banana\", \"cherry\"]\n",
        "thislist.clear()\n",
        "print(thislist)"
      ]
    },
    {
      "cell_type": "markdown",
      "id": "92eac9a9",
      "metadata": {
        "id": "92eac9a9"
      },
      "source": [
        "#### 6. Loop Lists"
      ]
    },
    {
      "cell_type": "markdown",
      "id": "c98e6188",
      "metadata": {
        "id": "c98e6188"
      },
      "source": [
        "##### 1. Loop Through a List"
      ]
    },
    {
      "cell_type": "code",
      "execution_count": null,
      "id": "b7f7763a",
      "metadata": {
        "id": "b7f7763a"
      },
      "outputs": [],
      "source": [
        "thislist = [\"apple\", \"banana\", \"cherry\"]\n",
        "for x in thislist:\n",
        "    print(x)"
      ]
    },
    {
      "cell_type": "markdown",
      "id": "1882a4b2",
      "metadata": {
        "id": "1882a4b2"
      },
      "source": [
        "##### 2. Loop Through the Index Numbers"
      ]
    },
    {
      "cell_type": "code",
      "execution_count": null,
      "id": "cb137e06",
      "metadata": {
        "id": "cb137e06"
      },
      "outputs": [],
      "source": [
        "thislist = [\"apple\", \"banana\", \"cherry\"]\n",
        "for i in range(len(thislist)):\n",
        "  print(thislist[i])"
      ]
    },
    {
      "cell_type": "markdown",
      "id": "496b9622",
      "metadata": {
        "id": "496b9622"
      },
      "source": [
        "##### 3. Loop using While"
      ]
    },
    {
      "cell_type": "code",
      "execution_count": null,
      "id": "195d304a",
      "metadata": {
        "id": "195d304a"
      },
      "outputs": [],
      "source": [
        "thislist = [\"apple\", \"banana\", \"cherry\"]\n",
        "i = 0\n",
        "while i < len(thislist):\n",
        "    print(thislist[i])\n",
        "    i = i + 1"
      ]
    },
    {
      "cell_type": "markdown",
      "id": "6d4ec2f0",
      "metadata": {
        "id": "6d4ec2f0"
      },
      "source": [
        "##### 4. Looping Using List Comprehension"
      ]
    },
    {
      "cell_type": "code",
      "execution_count": null,
      "id": "56a2eeb9",
      "metadata": {
        "id": "56a2eeb9"
      },
      "outputs": [],
      "source": [
        "thislist = [\"apple\", \"banana\", \"cherry\"]\n",
        "[print(x) for x in thislist]"
      ]
    },
    {
      "cell_type": "markdown",
      "id": "9bbdd3bf",
      "metadata": {
        "id": "9bbdd3bf"
      },
      "source": [
        "#### 7. List Comprehension"
      ]
    },
    {
      "cell_type": "markdown",
      "id": "559ee138",
      "metadata": {
        "id": "559ee138"
      },
      "source": [
        "##### 1. List Comprehension using loop"
      ]
    },
    {
      "cell_type": "code",
      "execution_count": null,
      "id": "c03b35fa",
      "metadata": {
        "id": "c03b35fa"
      },
      "outputs": [],
      "source": [
        "fruits = [\"apple\", \"banana\", \"cherry\", \"kiwi\", \"mango\"]\n",
        "newlist = []\n",
        "\n",
        "for x in fruits:\n",
        "  if \"a\" in x:\n",
        "    newlist.append(x)\n",
        "\n",
        "print(newlist)"
      ]
    },
    {
      "cell_type": "markdown",
      "id": "abe9245c",
      "metadata": {
        "id": "abe9245c"
      },
      "source": [
        "##### 2. Comprehension using single line code"
      ]
    },
    {
      "cell_type": "code",
      "execution_count": null,
      "id": "12491ab5",
      "metadata": {
        "id": "12491ab5"
      },
      "outputs": [],
      "source": [
        "fruits = [\"apple\", \"banana\", \"cherry\", \"kiwi\", \"mango\"]\n",
        "\n",
        "newlist = [x for x in fruits if \"a\" in x]\n",
        "\n",
        "print(newlist)"
      ]
    },
    {
      "cell_type": "markdown",
      "id": "bcb74d2d",
      "metadata": {
        "id": "bcb74d2d"
      },
      "source": [
        "#### 8. Sort List"
      ]
    },
    {
      "cell_type": "markdown",
      "id": "068d94c3",
      "metadata": {
        "id": "068d94c3"
      },
      "source": [
        "##### 1. Ascending"
      ]
    },
    {
      "cell_type": "code",
      "execution_count": null,
      "id": "1008daca",
      "metadata": {
        "id": "1008daca"
      },
      "outputs": [],
      "source": [
        "thislist = [\"orange\", \"mango\", \"kiwi\", \"pineapple\", \"banana\"]\n",
        "print('Before Sorting:',thislist)\n",
        "thislist.sort()\n",
        "print('After Sorting:',thislist)"
      ]
    },
    {
      "cell_type": "markdown",
      "id": "07e8dc8d",
      "metadata": {
        "id": "07e8dc8d"
      },
      "source": [
        "##### 2. Descending"
      ]
    },
    {
      "cell_type": "code",
      "execution_count": null,
      "id": "0bbd5d78",
      "metadata": {
        "id": "0bbd5d78"
      },
      "outputs": [],
      "source": [
        "thislist = [\"orange\", \"mango\", \"kiwi\", \"pineapple\", \"banana\"]\n",
        "print('Before Sorting:',thislist)\n",
        "thislist.sort(reverse = True)\n",
        "print('Before Sorting:',thislist)"
      ]
    },
    {
      "cell_type": "markdown",
      "id": "d2dab606",
      "metadata": {
        "id": "d2dab606"
      },
      "source": [
        "##### 3. Case sensitive Sorting"
      ]
    },
    {
      "cell_type": "code",
      "execution_count": null,
      "id": "02aeadc3",
      "metadata": {
        "id": "02aeadc3"
      },
      "outputs": [],
      "source": [
        "thislist = [\"banana\", \"Orange\", \"Kiwi\", \"cherry\"]\n",
        "thislist.sort()\n",
        "print(thislist) #Case sensitive sorting can give an unexpected result:"
      ]
    },
    {
      "cell_type": "markdown",
      "id": "f51952fc",
      "metadata": {
        "id": "f51952fc"
      },
      "source": [
        "##### 4. Case In-sensnitive Sorting"
      ]
    },
    {
      "cell_type": "code",
      "execution_count": null,
      "id": "6d9b92f3",
      "metadata": {
        "id": "6d9b92f3"
      },
      "outputs": [],
      "source": [
        "thislist = [\"banana\", \"Orange\", \"Kiwi\", \"cherry\"]\n",
        "thislist.sort(key = str.lower)\n",
        "print(thislist)"
      ]
    },
    {
      "cell_type": "markdown",
      "id": "670e019a",
      "metadata": {
        "id": "670e019a"
      },
      "source": [
        "##### 5. Reverse the list"
      ]
    },
    {
      "cell_type": "code",
      "execution_count": null,
      "id": "ea822add",
      "metadata": {
        "id": "ea822add"
      },
      "outputs": [],
      "source": [
        "thislist = [\"banana\", \"Orange\", \"Kiwi\", \"cherry\"]\n",
        "print(thislist)\n",
        "thislist.reverse()\n",
        "print(thislist)"
      ]
    },
    {
      "cell_type": "markdown",
      "id": "de214a4f",
      "metadata": {
        "id": "de214a4f"
      },
      "source": [
        "#### 9. Join List"
      ]
    },
    {
      "cell_type": "markdown",
      "id": "e832d80e",
      "metadata": {
        "id": "e832d80e"
      },
      "source": [
        "##### 1. Append"
      ]
    },
    {
      "cell_type": "code",
      "execution_count": null,
      "id": "7a735824",
      "metadata": {
        "id": "7a735824"
      },
      "outputs": [],
      "source": [
        "list1 = [\"a\", \"b\" , \"c\"]\n",
        "list2 = [1, 2, 3]\n",
        "\n",
        "for x in list2:\n",
        "  list1.append(x)\n",
        "\n",
        "print(list1)"
      ]
    },
    {
      "cell_type": "markdown",
      "id": "e74d09e1",
      "metadata": {
        "id": "e74d09e1"
      },
      "source": [
        "##### 2. Extend"
      ]
    },
    {
      "cell_type": "code",
      "execution_count": null,
      "id": "7f1b5437",
      "metadata": {
        "id": "7f1b5437"
      },
      "outputs": [],
      "source": [
        "list1 = [\"a\", \"b\" , \"c\"]\n",
        "list2 = [1, 2, 3]\n",
        "\n",
        "list1.extend(list2)\n",
        "print(list1)"
      ]
    },
    {
      "cell_type": "markdown",
      "source": [
        " **Dictionary**"
      ],
      "metadata": {
        "id": "6n6usGTyfoZx"
      },
      "id": "6n6usGTyfoZx"
    },
    {
      "cell_type": "code",
      "source": [
        "#Create dictionary"
      ],
      "metadata": {
        "id": "HpjOn14ffnfl"
      },
      "id": "HpjOn14ffnfl",
      "execution_count": null,
      "outputs": []
    },
    {
      "cell_type": "code",
      "source": [
        "thisdict = {\n",
        "  \"brand\": \"Ford\",\n",
        "  \"model\": \"Mustang\",\n",
        "  \"year\": 1964\n",
        "}\n",
        "print(thisdict)"
      ],
      "metadata": {
        "colab": {
          "base_uri": "https://localhost:8080/"
        },
        "id": "6Nf2T4fggR4x",
        "outputId": "fdb3e1ba-8bfa-48de-96c6-2648ef7ce874"
      },
      "id": "6Nf2T4fggR4x",
      "execution_count": null,
      "outputs": [
        {
          "output_type": "stream",
          "name": "stdout",
          "text": [
            "{'brand': 'Ford', 'model': 'Mustang', 'year': 1964}\n"
          ]
        }
      ]
    },
    {
      "cell_type": "code",
      "source": [
        "#Duplicate values will overwrite existing values:"
      ],
      "metadata": {
        "id": "VlcABcyegj5S"
      },
      "id": "VlcABcyegj5S",
      "execution_count": null,
      "outputs": []
    },
    {
      "cell_type": "code",
      "source": [
        "\n",
        "# This is formatted as code\n",
        "\n",
        "\n",
        "#Accessing Items\n",
        "#Get the value of the \"model\" key:\n",
        "\n",
        "\n",
        "# This is formatted as code\n",
        "\n",
        "#Accessing Items\n",
        "#Get the value of the \"model\" key:\n"
      ],
      "metadata": {
        "id": "EL86yAsUgj99"
      },
      "id": "EL86yAsUgj99",
      "execution_count": null,
      "outputs": []
    },
    {
      "cell_type": "code",
      "source": [
        "\n",
        "thisdict = {\n",
        "  \"brand\": \"Ford\",\n",
        "  \"model\": \"Mustang\",\n",
        "  \"year\": 1964\n",
        "}\n",
        "x = thisdict[\"year\"]\n",
        "x"
      ],
      "metadata": {
        "colab": {
          "base_uri": "https://localhost:8080/"
        },
        "id": "l5miPJprgkAd",
        "outputId": "e53f203a-8f3b-4eb5-a9aa-357041116b3f"
      },
      "id": "l5miPJprgkAd",
      "execution_count": null,
      "outputs": [
        {
          "output_type": "execute_result",
          "data": {
            "text/plain": [
              "1964"
            ]
          },
          "metadata": {},
          "execution_count": 6
        }
      ]
    },
    {
      "cell_type": "code",
      "source": [
        "#Get the value of the \"model\" key:\n",
        "\n",
        "x = thisdict.get(\"model\")\n",
        "x"
      ],
      "metadata": {
        "colab": {
          "base_uri": "https://localhost:8080/",
          "height": 36
        },
        "id": "vHWMxm6sgkDD",
        "outputId": "4a643a41-fe7c-46ed-e817-c186a25ae8ef"
      },
      "id": "vHWMxm6sgkDD",
      "execution_count": null,
      "outputs": [
        {
          "output_type": "execute_result",
          "data": {
            "text/plain": [
              "'Mustang'"
            ],
            "application/vnd.google.colaboratory.intrinsic+json": {
              "type": "string"
            }
          },
          "metadata": {},
          "execution_count": 8
        }
      ]
    },
    {
      "cell_type": "code",
      "source": [
        "#Get a list of the keys:\n",
        "x = thisdict.keys()\n",
        "x"
      ],
      "metadata": {
        "colab": {
          "base_uri": "https://localhost:8080/"
        },
        "id": "qkR71EB3gkFc",
        "outputId": "c17bdfc6-479d-4ef7-d2a0-817177bc0af3"
      },
      "id": "qkR71EB3gkFc",
      "execution_count": null,
      "outputs": [
        {
          "output_type": "execute_result",
          "data": {
            "text/plain": [
              "dict_keys(['brand', 'model', 'year'])"
            ]
          },
          "metadata": {},
          "execution_count": 11
        }
      ]
    },
    {
      "cell_type": "code",
      "source": [
        "#Get a list of the values:\n",
        "\n",
        "x = thisdict.values()\n",
        "x"
      ],
      "metadata": {
        "colab": {
          "base_uri": "https://localhost:8080/"
        },
        "id": "0filGKKigkHz",
        "outputId": "7c060b1b-ea0c-47be-fa4f-e54bfa5e3694"
      },
      "id": "0filGKKigkHz",
      "execution_count": null,
      "outputs": [
        {
          "output_type": "execute_result",
          "data": {
            "text/plain": [
              "dict_values(['Ford', 'Mustang', 1964])"
            ]
          },
          "metadata": {},
          "execution_count": 12
        }
      ]
    },
    {
      "cell_type": "code",
      "source": [
        "#Make a change in the original dictionary, and see that the values list gets updated as well:\n",
        "\n",
        "\n",
        "car = {\n",
        "\"brand\": \"Ford\",\n",
        "\"model\": \"Mustang\",\n",
        "\"year\": 1964\n",
        "}\n",
        "\n",
        "x = car.values()\n",
        "\n",
        "print(x) #before the change\n",
        "\n",
        "car[\"year\"] = 2020\n",
        "\n",
        "print(x) #after the change"
      ],
      "metadata": {
        "colab": {
          "base_uri": "https://localhost:8080/"
        },
        "id": "ArYHEgr_gkKF",
        "outputId": "2e7def68-5470-490d-ea6c-200db467a627"
      },
      "id": "ArYHEgr_gkKF",
      "execution_count": null,
      "outputs": [
        {
          "output_type": "stream",
          "name": "stdout",
          "text": [
            "dict_values(['Ford', 'Mustang', 1964])\n",
            "dict_values(['Ford', 'Mustang', 2020])\n"
          ]
        }
      ]
    },
    {
      "cell_type": "code",
      "source": [
        "#Get a list of the key:value pairs\n",
        "x = thisdict.items()\n",
        "x"
      ],
      "metadata": {
        "colab": {
          "base_uri": "https://localhost:8080/"
        },
        "id": "qQOKsc6WgkMh",
        "outputId": "f0924690-ea5c-4905-e0cd-f6fcb974a548"
      },
      "id": "qQOKsc6WgkMh",
      "execution_count": null,
      "outputs": [
        {
          "output_type": "execute_result",
          "data": {
            "text/plain": [
              "dict_items([('brand', 'Ford'), ('model', 'Mustang'), ('year', 1964)])"
            ]
          },
          "metadata": {},
          "execution_count": 14
        }
      ]
    },
    {
      "cell_type": "code",
      "source": [
        "#Update the \"year\" of the car by using the update() method:\n",
        "thisdict = {\n",
        "  \"brand\": \"Ford\",\n",
        "  \"model\": \"Mustang\",\n",
        "  \"year\": 1964\n",
        "}\n",
        "thisdict.update({\"year\": 2020})\n",
        "print(thisdict)"
      ],
      "metadata": {
        "colab": {
          "base_uri": "https://localhost:8080/"
        },
        "id": "HzvUBW0ZgkO0",
        "outputId": "54351e4e-4d57-4431-bedb-88a3f472149b"
      },
      "id": "HzvUBW0ZgkO0",
      "execution_count": null,
      "outputs": [
        {
          "output_type": "stream",
          "name": "stdout",
          "text": [
            "{'brand': 'Ford', 'model': 'Mustang', 'year': 2020}\n"
          ]
        }
      ]
    },
    {
      "cell_type": "code",
      "source": [],
      "metadata": {
        "id": "zd3Rw8MbgkQ6"
      },
      "id": "zd3Rw8MbgkQ6",
      "execution_count": null,
      "outputs": []
    },
    {
      "cell_type": "code",
      "source": [
        "#SET\n"
      ],
      "metadata": {
        "id": "gBO6MgDyjO_i"
      },
      "id": "gBO6MgDyjO_i",
      "execution_count": null,
      "outputs": []
    },
    {
      "cell_type": "code",
      "source": [
        "myset = {\"Dublin\", \"Cork\", \"Galway\"}"
      ],
      "metadata": {
        "id": "rrOYP0JmjPCn"
      },
      "id": "rrOYP0JmjPCn",
      "execution_count": null,
      "outputs": []
    },
    {
      "cell_type": "code",
      "source": [
        "#Get the number of items in a set\n",
        "len(myset)"
      ],
      "metadata": {
        "colab": {
          "base_uri": "https://localhost:8080/"
        },
        "id": "BXC6-7XYjPFO",
        "outputId": "2920159b-6ba9-4019-fc4b-df92121e1b46"
      },
      "id": "BXC6-7XYjPFO",
      "execution_count": null,
      "outputs": [
        {
          "output_type": "execute_result",
          "data": {
            "text/plain": [
              "3"
            ]
          },
          "metadata": {},
          "execution_count": 19
        }
      ]
    },
    {
      "cell_type": "code",
      "source": [
        "#Set Constructor\n",
        "#note the double round-brackets\n",
        "thisset = set((\"Dublin\", \"Cork\", \"Galway\"))\n",
        "print(thisset)"
      ],
      "metadata": {
        "colab": {
          "base_uri": "https://localhost:8080/"
        },
        "id": "WUj7l4pbjPIM",
        "outputId": "3e4455ab-20ce-4441-de3d-b0ec45c4d1a9"
      },
      "id": "WUj7l4pbjPIM",
      "execution_count": null,
      "outputs": [
        {
          "output_type": "stream",
          "name": "stdout",
          "text": [
            "{'Cork', 'Dublin', 'Galway'}\n"
          ]
        }
      ]
    },
    {
      "cell_type": "code",
      "source": [
        "#To add one item to a set use the add() method bold text\n",
        "thisset = {\"Dublin\", \"Cork\", \"Galway\"}\n",
        "\n",
        "thisset.add(\"Clare\")\n",
        "\n",
        "print(thisset)"
      ],
      "metadata": {
        "colab": {
          "base_uri": "https://localhost:8080/"
        },
        "id": "7xyEPymQjPKw",
        "outputId": "70b29c64-7cb2-4bbf-b82c-ee67bd0b8f99"
      },
      "id": "7xyEPymQjPKw",
      "execution_count": null,
      "outputs": [
        {
          "output_type": "stream",
          "name": "stdout",
          "text": [
            "{'Cork', 'Dublin', 'Galway', 'Clare'}\n"
          ]
        }
      ]
    },
    {
      "cell_type": "code",
      "source": [
        "#To add items from another set into the current set, use the update() method.\n",
        "thisset = {\"Dublin\", \"Cork\", \"Galway\"}\n",
        "set2 = {\"Donegal\", \"Sligo\", \"Laois\"}\n",
        "\n",
        "thisset.update(set2)\n",
        "\n",
        "print(thisset)\n"
      ],
      "metadata": {
        "colab": {
          "base_uri": "https://localhost:8080/"
        },
        "id": "YLc5fm7MjPNk",
        "outputId": "f202cd62-9602-44dd-a373-a1ff9566869c"
      },
      "id": "YLc5fm7MjPNk",
      "execution_count": null,
      "outputs": [
        {
          "output_type": "stream",
          "name": "stdout",
          "text": [
            "{'Galway', 'Sligo', 'Donegal', 'Cork', 'Dublin', 'Laois'}\n"
          ]
        }
      ]
    },
    {
      "cell_type": "code",
      "source": [
        "#Add Any Iterable\n",
        "#The object in the update() method does not have to be a set, it can be any iterable object (tuples, lists, dictionaries etc.).\n",
        "\n",
        "thisset = {\"Dublin\", \"Cork\", \"Galway\"}\n",
        "mylist = [\"Donegal\", \"Sligo\"]\n",
        "\n",
        "thisset.update(mylist)\n",
        "\n",
        "print(thisset)"
      ],
      "metadata": {
        "colab": {
          "base_uri": "https://localhost:8080/"
        },
        "id": "DNGx1ADcjPQB",
        "outputId": "2fbe5e4b-1225-473a-be14-d42ec2836363"
      },
      "id": "DNGx1ADcjPQB",
      "execution_count": null,
      "outputs": [
        {
          "output_type": "stream",
          "name": "stdout",
          "text": [
            "{'Galway', 'Cork', 'Dublin', 'Sligo', 'Donegal'}\n"
          ]
        }
      ]
    },
    {
      "cell_type": "code",
      "source": [
        "#Remove Item\n",
        "thisset = {\"Dublin\", \"Cork\", \"Galway\"}\n",
        "\n",
        "thisset.remove(\"Cork\")\n",
        "\n",
        "print(thisset)  "
      ],
      "metadata": {
        "colab": {
          "base_uri": "https://localhost:8080/"
        },
        "id": "bILN34U9jPTj",
        "outputId": "62d90c4c-6b28-43b5-8b3b-c786c4c01335"
      },
      "id": "bILN34U9jPTj",
      "execution_count": null,
      "outputs": [
        {
          "output_type": "stream",
          "name": "stdout",
          "text": [
            "{'Dublin', 'Galway'}\n"
          ]
        }
      ]
    },
    {
      "cell_type": "code",
      "source": [
        "#Join Two Sets\n",
        "set1 = {\"a\", \"b\" , \"c\"}\n",
        "set2 = {1, 2, 3}\n",
        "\n",
        "set3 = set1.union(set2)\n",
        "print(set3)"
      ],
      "metadata": {
        "colab": {
          "base_uri": "https://localhost:8080/"
        },
        "id": "kBj4ISG3jPcD",
        "outputId": "3c030aa3-b98c-4cdb-fe2b-0be7067060e9"
      },
      "id": "kBj4ISG3jPcD",
      "execution_count": null,
      "outputs": [
        {
          "output_type": "stream",
          "name": "stdout",
          "text": [
            "{1, 2, 3, 'c', 'b', 'a'}\n"
          ]
        }
      ]
    },
    {
      "cell_type": "code",
      "source": [],
      "metadata": {
        "id": "ko8ITJPkjPhV"
      },
      "id": "ko8ITJPkjPhV",
      "execution_count": null,
      "outputs": []
    },
    {
      "cell_type": "code",
      "source": [],
      "metadata": {
        "id": "EwrxSUdQgkUP"
      },
      "id": "EwrxSUdQgkUP",
      "execution_count": null,
      "outputs": []
    },
    {
      "cell_type": "code",
      "source": [],
      "metadata": {
        "id": "AOb7tfNDgkWp"
      },
      "id": "AOb7tfNDgkWp",
      "execution_count": null,
      "outputs": []
    }
  ],
  "metadata": {
    "kernelspec": {
      "display_name": "Python 3 (ipykernel)",
      "language": "python",
      "name": "python3"
    },
    "language_info": {
      "codemirror_mode": {
        "name": "ipython",
        "version": 3
      },
      "file_extension": ".py",
      "mimetype": "text/x-python",
      "name": "python",
      "nbconvert_exporter": "python",
      "pygments_lexer": "ipython3",
      "version": "3.7.4"
    },
    "colab": {
      "provenance": [],
      "include_colab_link": true
    }
  },
  "nbformat": 4,
  "nbformat_minor": 5
}